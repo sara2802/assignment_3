{
 "cells": [
  {
   "cell_type": "code",
   "execution_count": 2,
   "id": "fc92156a",
   "metadata": {},
   "outputs": [
    {
     "name": "stdout",
     "output_type": "stream",
     "text": [
      "dcba4321\n"
     ]
    }
   ],
   "source": [
    "def string_reverse(str):\n",
    "\n",
    "    revstr1 = ''\n",
    "    index = len(str)\n",
    "    while index > 0:\n",
    "        revstr1 += str[ index - 1 ]\n",
    "        index = index - 1\n",
    "    return revstr1\n",
    "print(string_reverse('1234abcd'))"
   ]
  },
  {
   "cell_type": "code",
   "execution_count": 3,
   "id": "adf6fc9b",
   "metadata": {},
   "outputs": [
    {
     "name": "stdout",
     "output_type": "stream",
     "text": [
      "dcba4321\n"
     ]
    }
   ],
   "source": [
    "def string_reverse(str):\n",
    "\n",
    "    revstr1 = ''\n",
    "    index = len(str)\n",
    "    while index > 0:\n",
    "        revstr1 += str[ index - 1 ]\n",
    "        index = index - 1\n",
    "    return revstr1\n",
    "print(string_reverse('1234abcd'))"
   ]
  },
  {
   "cell_type": "code",
   "execution_count": null,
   "id": "c16dd871",
   "metadata": {},
   "outputs": [],
   "source": []
  }
 ],
 "metadata": {
  "kernelspec": {
   "display_name": "Python 3 (ipykernel)",
   "language": "python",
   "name": "python3"
  },
  "language_info": {
   "codemirror_mode": {
    "name": "ipython",
    "version": 3
   },
   "file_extension": ".py",
   "mimetype": "text/x-python",
   "name": "python",
   "nbconvert_exporter": "python",
   "pygments_lexer": "ipython3",
   "version": "3.10.1"
  }
 },
 "nbformat": 4,
 "nbformat_minor": 5
}
